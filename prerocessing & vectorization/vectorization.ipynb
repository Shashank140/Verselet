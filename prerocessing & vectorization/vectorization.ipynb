{
  "nbformat": 4,
  "nbformat_minor": 0,
  "metadata": {
    "colab": {
      "name": "vectorization.ipynb",
      "provenance": []
    },
    "kernelspec": {
      "name": "python3",
      "display_name": "Python 3"
    },
    "language_info": {
      "name": "python"
    }
  },
  "cells": [
    {
      "cell_type": "code",
      "metadata": {
        "id": "EEQDlafhkj-T"
      },
      "source": [
        "from sklearn.feature_extraction.text import TfidfVectorizer\n",
        "import pickle\n",
        "import random\n",
        "# used processed_data2.txt "
      ],
      "execution_count": null,
      "outputs": []
    },
    {
      "cell_type": "code",
      "metadata": {
        "id": "RDEiSlszlEXN"
      },
      "source": [
        "with open('processed_data2.txt',\"rb\") as f:\n",
        "\tall_data = pickle.load(f)"
      ],
      "execution_count": 18,
      "outputs": []
    },
    {
      "cell_type": "code",
      "metadata": {
        "id": "NunfnrhVm4Gj"
      },
      "source": [
        "random.shuffle(all_data)"
      ],
      "execution_count": 19,
      "outputs": []
    },
    {
      "cell_type": "code",
      "metadata": {
        "id": "RheIZhZJm475"
      },
      "source": [
        "TotalLen = len(all_data)\n",
        "TrainLen = int(90*TotalLen/100)\n",
        "TestLen = TotalLen - TrainLen"
      ],
      "execution_count": 20,
      "outputs": []
    },
    {
      "cell_type": "code",
      "metadata": {
        "id": "RY-3Xqt2m5I5"
      },
      "source": [
        "TrainSet = all_data[0:TrainLen]\n",
        "TestSet = all_data[TrainLen:]\n",
        "train_poems = []"
      ],
      "execution_count": 22,
      "outputs": []
    },
    {
      "cell_type": "code",
      "metadata": {
        "id": "wJ0nbyDem5Pz"
      },
      "source": [
        "for elem in TrainSet:\n",
        "\ttrain_poems.append(elem[4])"
      ],
      "execution_count": 23,
      "outputs": []
    },
    {
      "cell_type": "code",
      "metadata": {
        "id": "0KvXB6WRnHZ_"
      },
      "source": [
        "def identity_func(doc):\n",
        "\treturn doc"
      ],
      "execution_count": 24,
      "outputs": []
    },
    {
      "cell_type": "code",
      "metadata": {
        "colab": {
          "base_uri": "https://localhost:8080/"
        },
        "id": "s48CcVd3nHe1",
        "outputId": "d42b0508-5903-42c3-c58f-012f63a49ecb"
      },
      "source": [
        "print(\"Start btf\")\n",
        "btf = TfidfVectorizer(binary=True,\n",
        "\tnorm=None,\n",
        "\tuse_idf=False,\n",
        "\tsmooth_idf=False,\n",
        "\tlowercase=False,\n",
        "\ttokenizer=identity_func,\n",
        "\tpreprocessor=identity_func,\n",
        "    min_df = 500,\n",
        "\tmax_df = 0.8,\n",
        "\ttoken_pattern=None)"
      ],
      "execution_count": 25,
      "outputs": [
        {
          "output_type": "stream",
          "name": "stdout",
          "text": [
            "Start btf\n"
          ]
        }
      ]
    },
    {
      "cell_type": "code",
      "metadata": {
        "colab": {
          "base_uri": "https://localhost:8080/"
        },
        "id": "8MPK2j4-nHhG",
        "outputId": "34276cce-9bd6-4aef-b3ea-a4e098199ac8"
      },
      "source": [
        "btf.fit(train_poems)"
      ],
      "execution_count": 26,
      "outputs": [
        {
          "output_type": "execute_result",
          "data": {
            "text/plain": [
              "TfidfVectorizer(analyzer='word', binary=True, decode_error='strict',\n",
              "                dtype=<class 'numpy.float64'>, encoding='utf-8',\n",
              "                input='content', lowercase=False, max_df=0.8, max_features=None,\n",
              "                min_df=500, ngram_range=(1, 1), norm=None,\n",
              "                preprocessor=<function identity_func at 0x7faeb1458950>,\n",
              "                smooth_idf=False, stop_words=None, strip_accents=None,\n",
              "                sublinear_tf=False, token_pattern=None,\n",
              "                tokenizer=<function identity_func at 0x7faeb1458950>,\n",
              "                use_idf=False, vocabulary=None)"
            ]
          },
          "metadata": {},
          "execution_count": 26
        }
      ]
    },
    {
      "cell_type": "code",
      "metadata": {
        "id": "fVPG_hG6nHjY"
      },
      "source": [
        "TrainSetWithVector_btf = []\n",
        "for elem in TrainSet:\n",
        "\telem.append(btf.transform([elem[4]]).toarray()[0].tolist())\n",
        "\tTrainSetWithVector_btf.append(elem)"
      ],
      "execution_count": 27,
      "outputs": []
    },
    {
      "cell_type": "code",
      "metadata": {
        "id": "-Z1FgvnAnSfy"
      },
      "source": [
        "TestSetWithVector_btf = []\n",
        "for elem in TestSet:\n",
        "\telem.append(btf.transform([elem[4]]).toarray()[0].tolist())\n",
        "\tTestSetWithVector_btf.append(elem)"
      ],
      "execution_count": 29,
      "outputs": []
    },
    {
      "cell_type": "code",
      "metadata": {
        "colab": {
          "base_uri": "https://localhost:8080/"
        },
        "id": "bFca0MDhnisV",
        "outputId": "66ed5934-ba92-494a-89f0-9d6028355c52"
      },
      "source": [
        "print(len(TestSetWithVector_btf))\n",
        "print(len(TrainSetWithVector_btf))"
      ],
      "execution_count": 30,
      "outputs": [
        {
          "output_type": "stream",
          "name": "stdout",
          "text": [
            "269\n",
            "2418\n"
          ]
        }
      ]
    },
    {
      "cell_type": "code",
      "metadata": {
        "id": "y507O4n3nivL"
      },
      "source": [
        "with open(\"test_data_btf\",\"wb\") as f:\n",
        "\tpickle.dump(TestSetWithVector_btf,f)"
      ],
      "execution_count": 31,
      "outputs": []
    },
    {
      "cell_type": "code",
      "metadata": {
        "id": "SKBhcr6EnokM"
      },
      "source": [
        "with open(\"train_data_btf\",\"wb\") as f:\n",
        "\tpickle.dump(TrainSetWithVector_btf,f)"
      ],
      "execution_count": 32,
      "outputs": []
    },
    {
      "cell_type": "code",
      "metadata": {
        "colab": {
          "base_uri": "https://localhost:8080/"
        },
        "id": "0vbWPitinwFa",
        "outputId": "73a1fa29-a33f-4d85-81e6-9e385995b1cd"
      },
      "source": [
        "print(\"end btf\")\n",
        "\n",
        "print(\"Start bow\")"
      ],
      "execution_count": 33,
      "outputs": [
        {
          "output_type": "stream",
          "name": "stdout",
          "text": [
            "end btf\n",
            "Start bow\n"
          ]
        }
      ]
    },
    {
      "cell_type": "code",
      "metadata": {
        "id": "2Z9PyA9dnynI"
      },
      "source": [
        "bow = TfidfVectorizer(binary=False,\n",
        "\tnorm=None,\n",
        "\tuse_idf=False,\n",
        "\tsmooth_idf=False,\n",
        "\tlowercase=False,\n",
        "\ttokenizer=identity_func,\n",
        "\tpreprocessor=identity_func,\n",
        "  min_df = 500,\n",
        "\tmax_df = 0.8,\n",
        "\ttoken_pattern=None)"
      ],
      "execution_count": 34,
      "outputs": []
    },
    {
      "cell_type": "code",
      "metadata": {
        "id": "2GiFl1gtn1d2"
      },
      "source": [
        "bow.fit(train_poems)\n",
        "TrainSetWithVector_bow = []\n",
        "for elem in TrainSet:\n",
        "\telem[5] = (bow.transform([elem[4]]).toarray()[0].tolist())\n",
        "\tTrainSetWithVector_bow.append(elem)"
      ],
      "execution_count": 37,
      "outputs": []
    },
    {
      "cell_type": "code",
      "metadata": {
        "id": "YNf7l14kn6y0"
      },
      "source": [
        "TestSetWithVector_bow = []\n",
        "for elem in TestSet:\n",
        "\telem[5] = (bow.transform([elem[4]]).toarray()[0].tolist())\n",
        "\tTestSetWithVector_bow.append(elem)"
      ],
      "execution_count": 38,
      "outputs": []
    },
    {
      "cell_type": "code",
      "metadata": {
        "colab": {
          "base_uri": "https://localhost:8080/"
        },
        "id": "J87slPf3n9Gt",
        "outputId": "7a2932e5-da00-4410-8a0d-898ea40789aa"
      },
      "source": [
        "print(len(TestSetWithVector_bow))\n",
        "print(len(TrainSetWithVector_bow))"
      ],
      "execution_count": 39,
      "outputs": [
        {
          "output_type": "stream",
          "name": "stdout",
          "text": [
            "269\n",
            "2418\n"
          ]
        }
      ]
    },
    {
      "cell_type": "code",
      "metadata": {
        "colab": {
          "base_uri": "https://localhost:8080/"
        },
        "id": "S6Z8foZDoBV9",
        "outputId": "36f4b369-b0a3-4f2e-845f-bc11bf8af774"
      },
      "source": [
        "with open(\"test_data_bow\",\"wb\") as f:\n",
        "\tpickle.dump(TestSetWithVector_bow,f)\n",
        "\n",
        "with open(\"train_data_bow\",\"wb\") as f:\n",
        "\tpickle.dump(TrainSetWithVector_bow,f)\n",
        "print(\"end bow\")"
      ],
      "execution_count": 40,
      "outputs": [
        {
          "output_type": "stream",
          "name": "stdout",
          "text": [
            "end bow\n"
          ]
        }
      ]
    },
    {
      "cell_type": "code",
      "metadata": {
        "colab": {
          "base_uri": "https://localhost:8080/"
        },
        "id": "acssqgySoF1L",
        "outputId": "5995cb9d-28ee-4e08-8755-5dd676c2d580"
      },
      "source": [
        "print(\"Start tfl1\")\n",
        "tfl1 = TfidfVectorizer(binary=False,\n",
        "\tnorm='l1',\n",
        "\tuse_idf=False,\n",
        "\tsmooth_idf=False,\n",
        "\tlowercase=False,\n",
        "\ttokenizer=identity_func,\n",
        "\tpreprocessor=identity_func,\n",
        "  min_df = 500,\n",
        "\tmax_df = 0.8,\n",
        "\ttoken_pattern=None)"
      ],
      "execution_count": 41,
      "outputs": [
        {
          "output_type": "stream",
          "name": "stdout",
          "text": [
            "Start tfl1\n"
          ]
        }
      ]
    },
    {
      "cell_type": "code",
      "metadata": {
        "id": "vYlCMjkMoIgH"
      },
      "source": [
        "tfl1.fit(train_poems)\n",
        "TrainSetWithVector_tfl1 = []\n",
        "for elem in TrainSet:\n",
        "\telem[5] = (tfl1.transform([elem[4]]).toarray()[0].tolist())\n",
        "\tTrainSetWithVector_tfl1.append(elem)"
      ],
      "execution_count": 42,
      "outputs": []
    },
    {
      "cell_type": "code",
      "metadata": {
        "colab": {
          "base_uri": "https://localhost:8080/"
        },
        "id": "xyyqlrzloL4A",
        "outputId": "4c7de746-3966-4037-d7c2-f5c60148fe2c"
      },
      "source": [
        "TestSetWithVector_tfl1 = []\n",
        "for elem in TestSet:\n",
        "\telem[5] = (tfl1.transform([elem[4]]).toarray()[0].tolist())\n",
        "\tTestSetWithVector_tfl1.append(elem)\n",
        "\n",
        "print(len(TestSetWithVector_tfl1))\n",
        "print(len(TrainSetWithVector_tfl1))"
      ],
      "execution_count": 43,
      "outputs": [
        {
          "output_type": "stream",
          "name": "stdout",
          "text": [
            "269\n",
            "2418\n"
          ]
        }
      ]
    },
    {
      "cell_type": "code",
      "metadata": {
        "colab": {
          "base_uri": "https://localhost:8080/"
        },
        "id": "LvlGOP2UoN9U",
        "outputId": "07ac40b7-751b-45c6-e905-1887b1dd007a"
      },
      "source": [
        "with open(\"test_data_tfl1\",\"wb\") as f:\n",
        "\tpickle.dump(TestSetWithVector_tfl1,f)\n",
        "\n",
        "with open(\"train_data_tfl1\",\"wb\") as f:\n",
        "\tpickle.dump(TrainSetWithVector_tfl1,f)\n",
        "\n",
        "print(\"end tfl1\")"
      ],
      "execution_count": 44,
      "outputs": [
        {
          "output_type": "stream",
          "name": "stdout",
          "text": [
            "end tfl1\n"
          ]
        }
      ]
    },
    {
      "cell_type": "code",
      "metadata": {
        "colab": {
          "base_uri": "https://localhost:8080/"
        },
        "id": "b5Hmh0bkoR96",
        "outputId": "f8ac9f85-73ce-4a24-bbfb-f67b3bc3ac46"
      },
      "source": [
        "print(\"Start tfidf\")\n",
        "tfidf = TfidfVectorizer(binary=False,\n",
        "\tnorm='l2',\n",
        "\tuse_idf=True,\n",
        "\tsmooth_idf=True,\n",
        "\tlowercase=False,\n",
        "\ttokenizer=identity_func,\n",
        "\tpreprocessor=identity_func,\n",
        "  min_df = 500,\n",
        "\tmax_df = 0.8,\n",
        "\ttoken_pattern=None)"
      ],
      "execution_count": 45,
      "outputs": [
        {
          "output_type": "stream",
          "name": "stdout",
          "text": [
            "Start tfidf\n"
          ]
        }
      ]
    },
    {
      "cell_type": "code",
      "metadata": {
        "colab": {
          "base_uri": "https://localhost:8080/"
        },
        "id": "lNH1YQZooVcC",
        "outputId": "74a63aea-972d-48b7-bef3-b24f90da68f3"
      },
      "source": [
        "tfidf.fit(train_poems)"
      ],
      "execution_count": 46,
      "outputs": [
        {
          "output_type": "execute_result",
          "data": {
            "text/plain": [
              "TfidfVectorizer(analyzer='word', binary=False, decode_error='strict',\n",
              "                dtype=<class 'numpy.float64'>, encoding='utf-8',\n",
              "                input='content', lowercase=False, max_df=0.8, max_features=None,\n",
              "                min_df=500, ngram_range=(1, 1), norm='l2',\n",
              "                preprocessor=<function identity_func at 0x7faeb1458950>,\n",
              "                smooth_idf=True, stop_words=None, strip_accents=None,\n",
              "                sublinear_tf=False, token_pattern=None,\n",
              "                tokenizer=<function identity_func at 0x7faeb1458950>,\n",
              "                use_idf=True, vocabulary=None)"
            ]
          },
          "metadata": {},
          "execution_count": 46
        }
      ]
    },
    {
      "cell_type": "code",
      "metadata": {
        "id": "7FCuv7OBoXcW"
      },
      "source": [
        "TrainSetWithVector_tfidf = []\n",
        "for elem in TrainSet:\n",
        "\telem[5] = (tfidf.transform([elem[4]]).toarray()[0].tolist())\n",
        "\tTrainSetWithVector_tfidf.append(elem)"
      ],
      "execution_count": 47,
      "outputs": []
    },
    {
      "cell_type": "code",
      "metadata": {
        "id": "vjAYYlaLoafk"
      },
      "source": [
        "TestSetWithVector_tfidf = []\n",
        "for elem in TestSet:\n",
        "\telem[5] = (tfidf.transform([elem[4]]).toarray()[0].tolist())\n",
        "\tTestSetWithVector_tfidf.append(elem)"
      ],
      "execution_count": 48,
      "outputs": []
    },
    {
      "cell_type": "code",
      "metadata": {
        "colab": {
          "base_uri": "https://localhost:8080/"
        },
        "id": "LBqLOjAEoakf",
        "outputId": "9e754de9-b460-4699-d910-9bda6514c607"
      },
      "source": [
        "print(len(TestSetWithVector_tfidf))\n",
        "print(len(TrainSetWithVector_tfidf))"
      ],
      "execution_count": 49,
      "outputs": [
        {
          "output_type": "stream",
          "name": "stdout",
          "text": [
            "269\n",
            "2418\n"
          ]
        }
      ]
    },
    {
      "cell_type": "code",
      "metadata": {
        "id": "q_xccunPoelw"
      },
      "source": [
        "with open(\"test_data_tfidf\",\"wb\") as f:\n",
        "\tpickle.dump(TestSetWithVector_tfidf,f)"
      ],
      "execution_count": 50,
      "outputs": []
    },
    {
      "cell_type": "code",
      "metadata": {
        "id": "CflqFh5QoiCS"
      },
      "source": [
        "with open(\"train_data_tfidf\",\"wb\") as f:\n",
        "\tpickle.dump(TrainSetWithVector_tfidf,f)"
      ],
      "execution_count": 51,
      "outputs": []
    },
    {
      "cell_type": "code",
      "metadata": {
        "colab": {
          "base_uri": "https://localhost:8080/"
        },
        "id": "rjREEc9DoksM",
        "outputId": "7cdabc83-04fd-4752-a43c-878164a8b579"
      },
      "source": [
        "print(\"end tfidf\")"
      ],
      "execution_count": 52,
      "outputs": [
        {
          "output_type": "stream",
          "name": "stdout",
          "text": [
            "end tfidf\n"
          ]
        }
      ]
    }
  ]
}